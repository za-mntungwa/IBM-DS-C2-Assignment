{
 "cells": [
  {
   "cell_type": "markdown",
   "id": "9c1fae83-a605-4f3c-a1ae-835035fc07f4",
   "metadata": {},
   "source": [
    "# <h1> Data Science Tools and Ecosystem </h1>"
   ]
  },
  {
   "cell_type": "markdown",
   "id": "f6e92f6c-1437-4109-86d7-7f6827221495",
   "metadata": {
    "tags": []
   },
   "source": [
    "In this notebook, Data Science Tools and Ecosystem are summarized."
   ]
  },
  {
   "cell_type": "markdown",
   "id": "0f9030e5-14a3-4efa-bdcf-e1c16188d325",
   "metadata": {},
   "source": [
    "**Objectives:**\n",
    "<ul>\n",
    "    <li> List popular languages for Data Science </li>\n",
    "    <li> Packages, APIs, Datasets and Models used in Data Science </li>\n",
    "    <li> Use Jupyter Notebooks and JupyterLab </li>\n",
    "    <li> Use RStudio and GitHub </li>\n",
    "</ul>"
   ]
  },
  {
   "cell_type": "markdown",
   "id": "795aed30-6924-4e4e-8412-602fd7cf844e",
   "metadata": {},
   "source": [
    "Some of the popular languages that Data Scientists use are: <br>\n",
    "<ol>\n",
    "    <li> Python </li>\n",
    "    <li> Julia </li>\n",
    "    <li> SQL </li>\n",
    "    <li> R </li>\n",
    "</ol>"
   ]
  },
  {
   "cell_type": "markdown",
   "id": "f6cd6cb8-f755-439b-a747-afd0557b31d7",
   "metadata": {},
   "source": [
    "Some of the commonly used libraries used by Data Scientists include: <br>\n",
    "<ol>\n",
    "    <li> pandas </li>\n",
    "    <li> numpy </li>\n",
    "    <li> dplyr </li>\n",
    "    <li> scipy </li>\n",
    "</ol>"
   ]
  },
  {
   "cell_type": "markdown",
   "id": "52d3c7a1-ff68-4ceb-8584-f4c89be42b02",
   "metadata": {},
   "source": [
    "<table style = width:40%>\n",
    "    <tr>\n",
    "        <th> Data Science Tools </th>\n",
    "    </tr>\n",
    "    <tr>\n",
    "        <td> Anaconda </td>\n",
    "    </tr>\n",
    "    <tr>\n",
    "        <td> JupyterLab </td>\n",
    "    </tr>\n",
    "    <tr>\n",
    "        <td> VS Code </td>\n",
    "    </tr>"
   ]
  },
  {
   "cell_type": "markdown",
   "id": "091f2870-1262-4383-8b40-8c7079b35451",
   "metadata": {},
   "source": [
    "### Below are a few examples of evaluating arithmetic expressions in Python"
   ]
  },
  {
   "cell_type": "code",
   "execution_count": 3,
   "id": "65744d09-a4e9-4ee4-ade6-8eb956b47e52",
   "metadata": {
    "tags": []
   },
   "outputs": [
    {
     "data": {
      "text/plain": [
       "17"
      ]
     },
     "execution_count": 3,
     "metadata": {},
     "output_type": "execute_result"
    }
   ],
   "source": [
    "# This a simple arithmetic expression to mutiply then add integers\n",
    "(3*4)+5"
   ]
  },
  {
   "cell_type": "code",
   "execution_count": 4,
   "id": "43a6d972-3d6c-4463-a84d-24b08612911f",
   "metadata": {
    "tags": []
   },
   "outputs": [
    {
     "data": {
      "text/plain": [
       "3.3333333333333335"
      ]
     },
     "execution_count": 4,
     "metadata": {},
     "output_type": "execute_result"
    }
   ],
   "source": [
    "# This will convert 200 minutes to hours by diving by 60\n",
    "200/60"
   ]
  },
  {
   "cell_type": "markdown",
   "id": "54c2e931-2910-44dc-bb32-2c25c5f77e6b",
   "metadata": {},
   "source": [
    "## Author\n",
    "Victor Hlongwane"
   ]
  },
  {
   "cell_type": "code",
   "execution_count": null,
   "id": "21c2b2fe-f9b1-4502-8108-998f0631deba",
   "metadata": {},
   "outputs": [],
   "source": []
  }
 ],
 "metadata": {
  "kernelspec": {
   "display_name": "Python",
   "language": "python",
   "name": "conda-env-python-py"
  },
  "language_info": {
   "codemirror_mode": {
    "name": "ipython",
    "version": 3
   },
   "file_extension": ".py",
   "mimetype": "text/x-python",
   "name": "python",
   "nbconvert_exporter": "python",
   "pygments_lexer": "ipython3",
   "version": "3.7.12"
  }
 },
 "nbformat": 4,
 "nbformat_minor": 5
}
